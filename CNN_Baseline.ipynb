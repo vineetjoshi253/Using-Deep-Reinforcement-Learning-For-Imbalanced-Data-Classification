{
  "nbformat": 4,
  "nbformat_minor": 0,
  "metadata": {
    "colab": {
      "name": "CNN Baseline",
      "provenance": [],
      "collapsed_sections": [
        "GgdqkNUIWPMc"
      ],
      "include_colab_link": true
    },
    "kernelspec": {
      "name": "python3",
      "display_name": "Python 3"
    },
    "accelerator": "GPU",
    "widgets": {
      "application/vnd.jupyter.widget-state+json": {
        "a23420d5e4574ce89ca80cd2fd1df2ec": {
          "model_module": "@jupyter-widgets/controls",
          "model_name": "HBoxModel",
          "state": {
            "_view_name": "HBoxView",
            "_dom_classes": [],
            "_model_name": "HBoxModel",
            "_view_module": "@jupyter-widgets/controls",
            "_model_module_version": "1.5.0",
            "_view_count": null,
            "_view_module_version": "1.5.0",
            "box_style": "",
            "layout": "IPY_MODEL_ff1c967e4e414fe3a7f5020962db533e",
            "_model_module": "@jupyter-widgets/controls",
            "children": [
              "IPY_MODEL_48d98977670d4e56aa7a8758c56861a3",
              "IPY_MODEL_7d91d9ef121843958649a41088795617"
            ]
          }
        },
        "ff1c967e4e414fe3a7f5020962db533e": {
          "model_module": "@jupyter-widgets/base",
          "model_name": "LayoutModel",
          "state": {
            "_view_name": "LayoutView",
            "grid_template_rows": null,
            "right": null,
            "justify_content": null,
            "_view_module": "@jupyter-widgets/base",
            "overflow": null,
            "_model_module_version": "1.2.0",
            "_view_count": null,
            "flex_flow": null,
            "width": null,
            "min_width": null,
            "border": null,
            "align_items": null,
            "bottom": null,
            "_model_module": "@jupyter-widgets/base",
            "top": null,
            "grid_column": null,
            "overflow_y": null,
            "overflow_x": null,
            "grid_auto_flow": null,
            "grid_area": null,
            "grid_template_columns": null,
            "flex": null,
            "_model_name": "LayoutModel",
            "justify_items": null,
            "grid_row": null,
            "max_height": null,
            "align_content": null,
            "visibility": null,
            "align_self": null,
            "height": null,
            "min_height": null,
            "padding": null,
            "grid_auto_rows": null,
            "grid_gap": null,
            "max_width": null,
            "order": null,
            "_view_module_version": "1.2.0",
            "grid_template_areas": null,
            "object_position": null,
            "object_fit": null,
            "grid_auto_columns": null,
            "margin": null,
            "display": null,
            "left": null
          }
        },
        "48d98977670d4e56aa7a8758c56861a3": {
          "model_module": "@jupyter-widgets/controls",
          "model_name": "FloatProgressModel",
          "state": {
            "_view_name": "ProgressView",
            "style": "IPY_MODEL_b1de78d59f1a40ae9cbddba4479c9210",
            "_dom_classes": [],
            "description": "100%",
            "_model_name": "FloatProgressModel",
            "bar_style": "success",
            "max": 1338,
            "_view_module": "@jupyter-widgets/controls",
            "_model_module_version": "1.5.0",
            "value": 1338,
            "_view_count": null,
            "_view_module_version": "1.5.0",
            "orientation": "horizontal",
            "min": 0,
            "description_tooltip": null,
            "_model_module": "@jupyter-widgets/controls",
            "layout": "IPY_MODEL_37e1be50335f45bcab93e69cdc57050b"
          }
        },
        "7d91d9ef121843958649a41088795617": {
          "model_module": "@jupyter-widgets/controls",
          "model_name": "HTMLModel",
          "state": {
            "_view_name": "HTMLView",
            "style": "IPY_MODEL_76c9a30d18d845d39294df5cac828924",
            "_dom_classes": [],
            "description": "",
            "_model_name": "HTMLModel",
            "placeholder": "​",
            "_view_module": "@jupyter-widgets/controls",
            "_model_module_version": "1.5.0",
            "value": " 1338/1338 [00:00&lt;00:00, 1622.70it/s]",
            "_view_count": null,
            "_view_module_version": "1.5.0",
            "description_tooltip": null,
            "_model_module": "@jupyter-widgets/controls",
            "layout": "IPY_MODEL_33bfcc7f037a45609ad151e91079302e"
          }
        },
        "b1de78d59f1a40ae9cbddba4479c9210": {
          "model_module": "@jupyter-widgets/controls",
          "model_name": "ProgressStyleModel",
          "state": {
            "_view_name": "StyleView",
            "_model_name": "ProgressStyleModel",
            "description_width": "initial",
            "_view_module": "@jupyter-widgets/base",
            "_model_module_version": "1.5.0",
            "_view_count": null,
            "_view_module_version": "1.2.0",
            "bar_color": null,
            "_model_module": "@jupyter-widgets/controls"
          }
        },
        "37e1be50335f45bcab93e69cdc57050b": {
          "model_module": "@jupyter-widgets/base",
          "model_name": "LayoutModel",
          "state": {
            "_view_name": "LayoutView",
            "grid_template_rows": null,
            "right": null,
            "justify_content": null,
            "_view_module": "@jupyter-widgets/base",
            "overflow": null,
            "_model_module_version": "1.2.0",
            "_view_count": null,
            "flex_flow": null,
            "width": null,
            "min_width": null,
            "border": null,
            "align_items": null,
            "bottom": null,
            "_model_module": "@jupyter-widgets/base",
            "top": null,
            "grid_column": null,
            "overflow_y": null,
            "overflow_x": null,
            "grid_auto_flow": null,
            "grid_area": null,
            "grid_template_columns": null,
            "flex": null,
            "_model_name": "LayoutModel",
            "justify_items": null,
            "grid_row": null,
            "max_height": null,
            "align_content": null,
            "visibility": null,
            "align_self": null,
            "height": null,
            "min_height": null,
            "padding": null,
            "grid_auto_rows": null,
            "grid_gap": null,
            "max_width": null,
            "order": null,
            "_view_module_version": "1.2.0",
            "grid_template_areas": null,
            "object_position": null,
            "object_fit": null,
            "grid_auto_columns": null,
            "margin": null,
            "display": null,
            "left": null
          }
        },
        "76c9a30d18d845d39294df5cac828924": {
          "model_module": "@jupyter-widgets/controls",
          "model_name": "DescriptionStyleModel",
          "state": {
            "_view_name": "StyleView",
            "_model_name": "DescriptionStyleModel",
            "description_width": "",
            "_view_module": "@jupyter-widgets/base",
            "_model_module_version": "1.5.0",
            "_view_count": null,
            "_view_module_version": "1.2.0",
            "_model_module": "@jupyter-widgets/controls"
          }
        },
        "33bfcc7f037a45609ad151e91079302e": {
          "model_module": "@jupyter-widgets/base",
          "model_name": "LayoutModel",
          "state": {
            "_view_name": "LayoutView",
            "grid_template_rows": null,
            "right": null,
            "justify_content": null,
            "_view_module": "@jupyter-widgets/base",
            "overflow": null,
            "_model_module_version": "1.2.0",
            "_view_count": null,
            "flex_flow": null,
            "width": null,
            "min_width": null,
            "border": null,
            "align_items": null,
            "bottom": null,
            "_model_module": "@jupyter-widgets/base",
            "top": null,
            "grid_column": null,
            "overflow_y": null,
            "overflow_x": null,
            "grid_auto_flow": null,
            "grid_area": null,
            "grid_template_columns": null,
            "flex": null,
            "_model_name": "LayoutModel",
            "justify_items": null,
            "grid_row": null,
            "max_height": null,
            "align_content": null,
            "visibility": null,
            "align_self": null,
            "height": null,
            "min_height": null,
            "padding": null,
            "grid_auto_rows": null,
            "grid_gap": null,
            "max_width": null,
            "order": null,
            "_view_module_version": "1.2.0",
            "grid_template_areas": null,
            "object_position": null,
            "object_fit": null,
            "grid_auto_columns": null,
            "margin": null,
            "display": null,
            "left": null
          }
        }
      }
    }
  },
  "cells": [
    {
      "cell_type": "markdown",
      "metadata": {
        "id": "view-in-github",
        "colab_type": "text"
      },
      "source": [
        "<a href=\"https://colab.research.google.com/github/vineetjoshi253/Using-Deep-Reinforcement-Learning-For-Imbalanced-Data-Classification/blob/main/CNN_Baseline.ipynb\" target=\"_parent\"><img src=\"https://colab.research.google.com/assets/colab-badge.svg\" alt=\"Open In Colab\"/></a>"
      ]
    },
    {
      "cell_type": "code",
      "metadata": {
        "colab": {
          "base_uri": "https://localhost:8080/"
        },
        "id": "QbQK_v5nB2So",
        "outputId": "e1d2a7c4-34bc-436e-dccc-0d3692864881"
      },
      "source": [
        "# utility library\r\n",
        "import os\r\n",
        "import time\r\n",
        "import copy\r\n",
        "import random\r\n",
        "import numpy as np\r\n",
        "import pandas as pd\r\n",
        "from random import sample\r\n",
        "import matplotlib.pyplot as plt\r\n",
        "from tqdm.notebook import tqdm as tqdm\r\n",
        "\r\n",
        "#Library for image Augumentation\r\n",
        "from skimage import io\r\n",
        "from PIL import Image\r\n",
        "from skimage.transform import rotate,AffineTransform, warp\r\n",
        "from skimage.util import random_noise\r\n",
        "from skimage.filters import gaussian\r\n",
        "\r\n",
        "#sklearn method to split the method\r\n",
        "from sklearn.model_selection import train_test_split\r\n",
        "from sklearn.metrics import accuracy_score,f1_score,classification_report,confusion_matrix\r\n",
        "# from imblearn.metrics import geometric_mean_score\r\n",
        "\r\n",
        "#Pytorch import\r\n",
        "import torch,torchvision\r\n",
        "import torch.nn as nn\r\n",
        "from torch import optim\r\n",
        "import torch.nn.functional as F\r\n",
        "from torchvision import transforms\r\n",
        "from torch.utils.data import Dataset, DataLoader\r\n",
        "from torch.utils import data as d\r\n",
        "import torchvision.utils as vutils\r\n",
        "import torch.nn.parallel\r\n",
        "import torch.backends.cudnn as cudnn  \r\n",
        "\r\n",
        "# device\r\n",
        "use_cuda = torch.cuda.is_available()\r\n",
        "device = torch.device(\"cuda:0\" if use_cuda else \"cpu\")\r\n",
        "\r\n",
        "# Set random seed for reproducibility\r\n",
        "manualSeed = 999\r\n",
        "#manualSeed = random.randint(1, 10000) # use if you want new results\r\n",
        "print(\"Random Seed: \", manualSeed)\r\n",
        "random.seed(manualSeed)\r\n",
        "torch.manual_seed(manualSeed)"
      ],
      "execution_count": null,
      "outputs": [
        {
          "output_type": "stream",
          "text": [
            "Random Seed:  999\n"
          ],
          "name": "stdout"
        },
        {
          "output_type": "execute_result",
          "data": {
            "text/plain": [
              "<torch._C.Generator at 0x7fc35f5d5b10>"
            ]
          },
          "metadata": {
            "tags": []
          },
          "execution_count": 1
        }
      ]
    },
    {
      "cell_type": "code",
      "metadata": {
        "colab": {
          "base_uri": "https://localhost:8080/"
        },
        "id": "83hjCyCKCUED",
        "outputId": "2178afee-dc7d-4a63-88b5-efeb86384293"
      },
      "source": [
        "'''\r\n",
        "Loading undersampled data\r\n",
        "'''\r\n",
        "rootPath = '/content/drive/MyDrive/Mtech Sem3/RL/RL Project'\r\n",
        "# trainX = np.load(os.path.join(rootPath,'79_40percent_undersampled_train.npy'))\r\n",
        "# trainY = np.load(os.path.join(rootPath,'79_40percent_undersampled_train_labels.npy'))\r\n",
        "# testX = np.load(os.path.join(rootPath,'79_40percent_undersampled_validation.npy'))\r\n",
        "# testY = np.load(os.path.join(rootPath,'79_40percent_undersampled_validation_labels.npy'))\r\n",
        "\r\n",
        "trainX = np.load(os.path.join(rootPath,'79_25percent_train_data.npy'))\r\n",
        "trainY = np.load(os.path.join(rootPath,'79_25percent_train_labels.npy'))\r\n",
        "testX = np.load(os.path.join(rootPath,'79_25percent_validation_data.npy'))\r\n",
        "testY = np.load(os.path.join(rootPath,'79_25percent_validation_labels.npy'))\r\n",
        "\r\n",
        "\r\n",
        "print('Training Features : ',trainX.shape)\r\n",
        "print('Training Labels : ',trainY.shape)\r\n",
        "print('Test Features : ',testX.shape)\r\n",
        "print('Validation Labels : ',testY.shape)\r\n",
        "\r\n",
        "print(\"Train Label\",np.unique(trainY, return_counts = True))\r\n",
        "print(\"Test Label\",np.unique(testY, return_counts = True))"
      ],
      "execution_count": null,
      "outputs": [
        {
          "output_type": "stream",
          "text": [
            "Training Features :  (6692, 28, 28)\n",
            "Training Labels :  (6692,)\n",
            "Test Features :  (744, 28, 28)\n",
            "Validation Labels :  (744,)\n",
            "Train Label (array([0, 1]), array([5354, 1338]))\n",
            "Test Label (array([0, 1]), array([595, 149]))\n"
          ],
          "name": "stdout"
        }
      ]
    },
    {
      "cell_type": "markdown",
      "metadata": {
        "id": "GgdqkNUIWPMc"
      },
      "source": [
        "## Treat Imbalance problem"
      ]
    },
    {
      "cell_type": "code",
      "metadata": {
        "id": "4oDYLaLUDdBa"
      },
      "source": [
        "#Seperating the different classes image\r\n",
        "labelClass0 = np.where(trainY == 0)[0]  # Class zero is for 9\r\n",
        "labelClass1 = np.where(trainY == 1)[0]  # Class one is for 7 \r\n",
        "class0Img = trainX[labelClass0]\r\n",
        "class1Img = trainX[labelClass1]"
      ],
      "execution_count": null,
      "outputs": []
    },
    {
      "cell_type": "code",
      "metadata": {
        "id": "ILfmPLBlMurH",
        "colab": {
          "base_uri": "https://localhost:8080/",
          "height": 66,
          "referenced_widgets": [
            "a23420d5e4574ce89ca80cd2fd1df2ec",
            "ff1c967e4e414fe3a7f5020962db533e",
            "48d98977670d4e56aa7a8758c56861a3",
            "7d91d9ef121843958649a41088795617",
            "b1de78d59f1a40ae9cbddba4479c9210",
            "37e1be50335f45bcab93e69cdc57050b",
            "76c9a30d18d845d39294df5cac828924",
            "33bfcc7f037a45609ad151e91079302e"
          ]
        },
        "outputId": "085b62db-d1b1-4c25-f778-ae142612ab72"
      },
      "source": [
        "# Now we will do augumentation oversampling of smaller class\r\n",
        "xAugData = []\r\n",
        "for i in tqdm(range(class1Img.shape[0])):\r\n",
        "    image = class1Img[i]\r\n",
        "    xAugData.append(image)\r\n",
        "    xAugData.append(rotate(image, angle=random.choice([-10,-5,0,5,10]), mode = 'wrap'))\r\n",
        "    xAugData.append(random_noise(image,var=0.002))\r\n",
        "    xAugData.append(gaussian(image,sigma=1,multichannel=False))\r\n",
        "    transform = AffineTransform(translation=(2,3))\r\n",
        "    xAugData.append(warp(image,transform,mode='wrap'))"
      ],
      "execution_count": null,
      "outputs": [
        {
          "output_type": "display_data",
          "data": {
            "application/vnd.jupyter.widget-view+json": {
              "model_id": "a23420d5e4574ce89ca80cd2fd1df2ec",
              "version_minor": 0,
              "version_major": 2
            },
            "text/plain": [
              "HBox(children=(FloatProgress(value=0.0, max=1338.0), HTML(value='')))"
            ]
          },
          "metadata": {
            "tags": []
          }
        },
        {
          "output_type": "stream",
          "text": [
            "\n"
          ],
          "name": "stdout"
        }
      ]
    },
    {
      "cell_type": "code",
      "metadata": {
        "id": "gQHDaRAvMug7",
        "colab": {
          "base_uri": "https://localhost:8080/"
        },
        "outputId": "5cce73a1-62e3-4d68-9d1e-8d4173390fa8"
      },
      "source": [
        "numberOfImagesToIncrease = class0Img.shape[0]\r\n",
        "xAugData = np.array(xAugData)\r\n",
        "print(xAugData.shape)\r\n",
        "index = np.random.choice([i for i in range(len(xAugData))],numberOfImagesToIncrease)\r\n",
        "xAugData = xAugData[index]\r\n",
        "yAugData = np.ones(numberOfImagesToIncrease)\r\n",
        "print(xAugData.shape,yAugData,yAugData.shape)"
      ],
      "execution_count": null,
      "outputs": [
        {
          "output_type": "stream",
          "text": [
            "(6690, 28, 28)\n",
            "(5354, 28, 28) [1. 1. 1. ... 1. 1. 1.] (5354,)\n"
          ],
          "name": "stdout"
        }
      ]
    },
    {
      "cell_type": "markdown",
      "metadata": {
        "id": "JRh5aBGwYjp-"
      },
      "source": [
        "## Spliting the training into validation dataset"
      ]
    },
    {
      "cell_type": "code",
      "metadata": {
        "id": "iytpwugbY0F8"
      },
      "source": [
        "#For Weighted technique\r\n",
        "# ftrainX = trainX\r\n",
        "# fTrainY = trainY\r\n",
        "#For Oversampling technique\r\n",
        "#Combine the two classes Data\r\n",
        "ftrainX = np.concatenate((class0Img, xAugData), axis=0)\r\n",
        "fTrainY = np.concatenate((np.zeros(numberOfImagesToIncrease),yAugData),axis = 0)\r\n",
        "fTestX =  testX\r\n",
        "fTestY =  testY "
      ],
      "execution_count": null,
      "outputs": []
    },
    {
      "cell_type": "code",
      "metadata": {
        "colab": {
          "base_uri": "https://localhost:8080/"
        },
        "id": "eJbywfiLYiyr",
        "outputId": "4f1cb198-53c1-4b94-cc4e-5b444b59b0b4"
      },
      "source": [
        "#Split the data into train and validation\r\n",
        "xTrain,xVal , yTrain ,yVal = train_test_split(ftrainX,fTrainY, test_size=0.25, stratify = fTrainY,random_state = manualSeed )\r\n",
        "#priting all shapes\r\n",
        "print('Complete Data size:\\n',ftrainX.shape,\"\\n\", np.unique(fTrainY,return_counts=True))\r\n",
        "print('Training Data size:\\n',xTrain.shape,\"\\n\", np.unique(yTrain,return_counts=True))\r\n",
        "print('Validation Data:\\n',xVal.shape,'\\n', np.unique(yVal,return_counts=True))\r\n",
        "print('Test Data:\\n',fTestX.shape,'\\n',np.unique(fTestY,return_counts=True))"
      ],
      "execution_count": null,
      "outputs": [
        {
          "output_type": "stream",
          "text": [
            "Complete Data size:\n",
            " (10708, 28, 28) \n",
            " (array([0., 1.]), array([5354, 5354]))\n",
            "Training Data size:\n",
            " (8031, 28, 28) \n",
            " (array([0., 1.]), array([4015, 4016]))\n",
            "Validation Data:\n",
            " (2677, 28, 28) \n",
            " (array([0., 1.]), array([1339, 1338]))\n",
            "Test Data:\n",
            " (744, 28, 28) \n",
            " (array([0, 1]), array([595, 149]))\n"
          ],
          "name": "stdout"
        }
      ]
    },
    {
      "cell_type": "markdown",
      "metadata": {
        "id": "2aB7pOYEWahr"
      },
      "source": [
        "## Define Coustom DataSet"
      ]
    },
    {
      "cell_type": "code",
      "metadata": {
        "id": "fnvFKz5CWce3"
      },
      "source": [
        "# 0 for  healthy and 1 for cancer\r\n",
        "class MNIST_79(Dataset):\r\n",
        "  def __init__(self,img,label,transform=None):\r\n",
        "    self.img = img\r\n",
        "    self.img = np.expand_dims(self.img, axis=1)\r\n",
        "    self.img = self.img/255\r\n",
        "    self.label = label\r\n",
        "    self.transform = transform\r\n",
        "  \r\n",
        "  def __len__(self):\r\n",
        "      return len(self.label)\r\n",
        "\r\n",
        "  def __getitem__(self, idx):\r\n",
        "      img = self.img[idx]\r\n",
        "      if self.transform:\r\n",
        "          img = self.transform(img)\r\n",
        "      \r\n",
        "      label = self.label[idx]\r\n",
        "      return img,label"
      ],
      "execution_count": null,
      "outputs": []
    },
    {
      "cell_type": "code",
      "metadata": {
        "id": "kLkjP7RqXRlz"
      },
      "source": [
        "# transform = transforms.Compose([transforms.ToTensor(),\r\n",
        "#                                 transforms.Normalize((0.5, 0.5, 0.5), (0.5, 0.5, 0.5)) ])\r\n",
        "transform = None\r\n",
        "#Training DataSet\r\n",
        "datasetTraining = MNIST_79(xTrain,yTrain,transform=transform)\r\n",
        "#Validation DataSet\r\n",
        "datasetValidation = MNIST_79(xVal,yVal,transform=transform)\r\n",
        "#Test Dataset\r\n",
        "datasetTest = MNIST_79(fTestX,fTestY,transform=transform)\r\n",
        "\r\n",
        "params = {'batch_size': 16,\r\n",
        "          'shuffle': True,\r\n",
        "          'num_workers': 2}\r\n",
        "\r\n",
        "trainLoader = torch.utils.data.DataLoader(datasetTraining, **params)\r\n",
        "valLoader = torch.utils.data.DataLoader(datasetValidation, **params)\r\n",
        "testLoader = torch.utils.data.DataLoader(datasetTest, **params)"
      ],
      "execution_count": null,
      "outputs": []
    },
    {
      "cell_type": "markdown",
      "metadata": {
        "id": "BUsBnbEGbPve"
      },
      "source": [
        "\r\n",
        "## Defining Network"
      ]
    },
    {
      "cell_type": "code",
      "metadata": {
        "id": "WCbomRtgbJpG"
      },
      "source": [
        "class SimpleCNN(nn.Module):\r\n",
        "    def __init__(self):\r\n",
        "        super().__init__()\r\n",
        "        self.CNN = nn.Sequential(\r\n",
        "            nn.Conv2d(in_channels = 1, out_channels = 32, kernel_size = 5, stride=3),\r\n",
        "            nn.ReLU(),\r\n",
        "            nn.MaxPool2d(kernel_size=2,stride=2),\r\n",
        "            # nn.Conv2d(in_channels = 32, out_channels = 32, kernel_size = 3, stride=2),\r\n",
        "            # nn.ReLU(),\r\n",
        "            # nn.MaxPool2d(kernel_size=2,stride=2)\r\n",
        "            )\r\n",
        "        self.model = nn.Sequential(\r\n",
        "            nn.Linear(in_features = 512 , out_features = 8),\r\n",
        "            nn.ReLU(),\r\n",
        "            nn.Linear(in_features = 8 , out_features = 2),\r\n",
        "        )\r\n",
        "        \r\n",
        "    def forward(self, x):\r\n",
        "        output = self.CNN(x)\r\n",
        "        output = output.view(output.shape[0],-1)\r\n",
        "        output = self.model(output)\r\n",
        "        # print(output.shape)\r\n",
        "        return output"
      ],
      "execution_count": null,
      "outputs": []
    },
    {
      "cell_type": "code",
      "metadata": {
        "colab": {
          "base_uri": "https://localhost:8080/"
        },
        "id": "6HDNI5sIffcj",
        "outputId": "c2ba8b1f-ba6a-45dd-8ff8-ca23b9f6f4db"
      },
      "source": [
        "# model  = SimpleCNN()\r\n",
        "# print(sum(p.numel() for p in model.parameters() if p.requires_grad))\r\n",
        "# xBatch,yBatch = next(iter(trainLoader))\r\n",
        "# print(xBatch.shape,yBatch.shape)\r\n",
        "# op = model(xBatch.float())\r\n",
        "# op.shape"
      ],
      "execution_count": null,
      "outputs": [
        {
          "output_type": "stream",
          "text": [
            "4954\n",
            "torch.Size([16, 1, 28, 28]) torch.Size([16])\n"
          ],
          "name": "stdout"
        },
        {
          "output_type": "execute_result",
          "data": {
            "text/plain": [
              "torch.Size([16, 2])"
            ]
          },
          "metadata": {
            "tags": []
          },
          "execution_count": 9
        }
      ]
    },
    {
      "cell_type": "code",
      "metadata": {
        "id": "xG5HIefqGSk2"
      },
      "source": [
        "# model  = SimpleCNN()\r\n",
        "# model.eval()\r\n",
        "# for x,Lbl in trainLoader:\r\n",
        "#   op = model(x.float())\r\n",
        "#   print(op)"
      ],
      "execution_count": null,
      "outputs": []
    },
    {
      "cell_type": "code",
      "metadata": {
        "id": "jO8tYQgDYMEe"
      },
      "source": [
        "def trainModelCNN(lr,epochs,model,trainLoader,ValLoader,savePath,saveModel = False,weightDecay = 0.01):\r\n",
        "  criterion = nn.CrossEntropyLoss()  #torch.tensor([1,1.5]).to(device)\r\n",
        "  optimizer = optim.AdamW(model.parameters(), lr=lr,weight_decay =  weightDecay)\r\n",
        "  # optimizer = optim.SGD(model.parameters(), lr=lr,weight_decay =  weightDecay,momentum = 0.9)\r\n",
        "  epochs = epochs\r\n",
        "  steps = 0\r\n",
        "  minValLoss = 1000\r\n",
        "  for e in tqdm(range(epochs)):\r\n",
        "      runningLoss = 0\r\n",
        "      for trainX, labels in trainLoader:\r\n",
        "          optimizer.zero_grad()\r\n",
        "          forward = model(trainX.float().to(device))\r\n",
        "          loss = criterion(forward, labels.long().to(device))\r\n",
        "          loss.backward()\r\n",
        "          optimizer.step()\r\n",
        "          runningLoss += loss.item()\r\n",
        "          \r\n",
        "      else:\r\n",
        "          valLoss = 0\r\n",
        "          valPredict= []\r\n",
        "          valLabel =  []\r\n",
        "          # Turn off gradients for validation, saves memory and computations\r\n",
        "          with torch.no_grad():\r\n",
        "              model.eval()\r\n",
        "              for valX, labels in ValLoader:\r\n",
        "                  forward = model(valX.float().to(device))\r\n",
        "                  valLoss += criterion(forward, labels.long().to(device))\r\n",
        "                  \r\n",
        "                  _, predict = torch.max(forward, 1)\r\n",
        "                  valLabel += list(torch.squeeze(labels.int()).numpy())\r\n",
        "                  valPredict += list(torch.squeeze(predict.int().cpu()).numpy())\r\n",
        "              \r\n",
        "              trainLabel = []\r\n",
        "              predictLabel = []\r\n",
        "              for trainX, labels in trainLoader:\r\n",
        "                  forward = model(trainX.float().to(device))\r\n",
        "                  \r\n",
        "                  _, predict = torch.max(forward, 1)\r\n",
        "                  trainLabel += list(torch.squeeze(labels.int()).numpy())\r\n",
        "                  predictLabel += list(torch.squeeze(predict.int().cpu()).numpy())\r\n",
        "                  \r\n",
        "          model.train()\r\n",
        "\r\n",
        "          trainLosses.append(runningLoss/len(trainLoader))\r\n",
        "          valLosses.append(valLoss/len(ValLoader))\r\n",
        "           \r\n",
        "          print(\"Epoch: {}/{}.. \".format(e+1, epochs),\r\n",
        "                \"Training Loss: {:.3f}.. \".format(trainLosses[-1]),\r\n",
        "                \"Val Loss: {:.3f}.. \".format(valLosses[-1]),\r\n",
        "                \"Train Accuracy: {:.3f}..\".format(accuracy_score(trainLabel,predictLabel)),\r\n",
        "                \"Val Accuracy: {:.3f}..\".format(accuracy_score(valLabel,valPredict)),\r\n",
        "                \"Train F1 Score: {:.3f}..\".format(f1_score(trainLabel, predictLabel)),\r\n",
        "                \"Val F1 Score: {:.3f}\".format(f1_score(valLabel,valPredict))\r\n",
        "                )\r\n",
        "          if(saveModel and valLoss < minValLoss):\r\n",
        "            #saveModel\r\n",
        "            minValLoss = valLoss\r\n",
        "            torch.save(model.state_dict(), savePath)\r\n",
        "            print(\"Model Saved\")"
      ],
      "execution_count": null,
      "outputs": []
    },
    {
      "cell_type": "code",
      "metadata": {
        "id": "sWQhQB9AYMOZ"
      },
      "source": [
        "# def init_weights(m):\r\n",
        "#     if type(m) == nn.Conv1d:\r\n",
        "#         torch.nn.init.kaiming_uniform_(m.weight)\r\n",
        "#         m.bias.data.fill_(0.01)"
      ],
      "execution_count": null,
      "outputs": []
    },
    {
      "cell_type": "code",
      "metadata": {
        "id": "5oh4aYOHeviW"
      },
      "source": [
        "lr = 0.001\r\n",
        "epochs = 150\r\n",
        "savePath = '/content/drive/MyDrive/Mtech Sem3/RL/RL Project/Models/MNIST 0.3/CNN_Oversampling_79_25.torch'\r\n",
        "trainLosses, valLosses = [], []\r\n",
        "modelCNN = SimpleCNN().to(device) \r\n",
        "# modelCNN.apply(init_weights)"
      ],
      "execution_count": null,
      "outputs": []
    },
    {
      "cell_type": "code",
      "metadata": {
        "id": "P4XoDFt-w5pn"
      },
      "source": [
        "trainModelCNN(lr,epochs,modelCNN,trainLoader,valLoader,savePath,True,0) "
      ],
      "execution_count": null,
      "outputs": []
    },
    {
      "cell_type": "code",
      "metadata": {
        "colab": {
          "base_uri": "https://localhost:8080/",
          "height": 265
        },
        "id": "zXQ9Q0yAnQ6S",
        "outputId": "c39bf883-8b00-414d-a283-7cdfcbdf21b4"
      },
      "source": [
        "plt.figure( figsize= (5,4))\r\n",
        "plt.plot(trainLosses,label = \"trainLoss\")\r\n",
        "plt.plot(valLosses,label =\"TestLoss\")\r\n",
        "plt.legend()\r\n",
        "plt.show()"
      ],
      "execution_count": null,
      "outputs": [
        {
          "output_type": "display_data",
          "data": {
            "image/png": "[encoded data removed]",
            "text/plain": [
              "<Figure size 360x288 with 1 Axes>"
            ]
          },
          "metadata": {
            "tags": [],
            "needs_background": "light"
          }
        }
      ]
    },
    {
      "cell_type": "code",
      "metadata": {
        "id": "e5sSQaDydIvw"
      },
      "source": [
        "savePath = '/content/drive/MyDrive/Mtech Sem3/RL/RL Project/Models/MNIST 0.4/CNN_Weighted_100Epoch_79_40Data.torch'\r\n",
        "torch.save(modelCNN.state_dict(), savePath)"
      ],
      "execution_count": null,
      "outputs": []
    },
    {
      "cell_type": "code",
      "metadata": {
        "colab": {
          "base_uri": "https://localhost:8080/"
        },
        "id": "40Slou1DebIJ",
        "outputId": "a6852879-0f4f-4c26-a65e-a0207910b4c0"
      },
      "source": [
        "savePath = '/content/drive/MyDrive/Mtech Sem3/RL/RL Project/Models/MNIST 0.3/CNN_Oversampling_79_25.torch'\r\n",
        "modelCNN.load_state_dict(torch.load(savePath))"
      ],
      "execution_count": null,
      "outputs": [
        {
          "output_type": "execute_result",
          "data": {
            "text/plain": [
              "<All keys matched successfully>"
            ]
          },
          "metadata": {
            "tags": []
          },
          "execution_count": 16
        }
      ]
    },
    {
      "cell_type": "code",
      "metadata": {
        "id": "Ai4KYpu8xLvt",
        "colab": {
          "base_uri": "https://localhost:8080/"
        },
        "outputId": "566e4912-05cb-4587-a8da-70ca32084baa"
      },
      "source": [
        "# modelCNN = modelCNN.to(device)\r\n",
        "modelCNN.eval()\r\n",
        "testPredictLabel = []\r\n",
        "testLabel = []\r\n",
        "for img, label in testLoader:\r\n",
        "  if (img.shape[0] == 1):\r\n",
        "    continue;\r\n",
        "  forward = modelCNN(img.float().to(device))\r\n",
        "  _, predict = torch.max(forward, 1)\r\n",
        "  testPredictLabel += list(torch.squeeze(predict.int().cpu()).numpy())\r\n",
        "  testLabel += list(torch.squeeze(label.int()).numpy())\r\n",
        "\r\n",
        "print(np.unique(testPredictLabel,return_counts= True))\r\n",
        "print(np.unique(testLabel,return_counts= True))\r\n",
        "print(\"Test Accuracy: {:.3f}..\".format(accuracy_score(testLabel,testPredictLabel)))\r\n",
        "print(\"Test F1 Score: {:.3f}..\".format(f1_score(testLabel,testPredictLabel)))\r\n",
        "print(\"Classification report: \\n\",classification_report(testLabel,testPredictLabel))"
      ],
      "execution_count": null,
      "outputs": [
        {
          "output_type": "stream",
          "text": [
            "(array([0, 1], dtype=int32), array([589, 155]))\n",
            "(array([0, 1], dtype=int32), array([595, 149]))\n",
            "Test Accuracy: 0.989..\n",
            "Test F1 Score: 0.974..\n",
            "Classification report: \n",
            "               precision    recall  f1-score   support\n",
            "\n",
            "           0       1.00      0.99      0.99       595\n",
            "           1       0.95      0.99      0.97       149\n",
            "\n",
            "    accuracy                           0.99       744\n",
            "   macro avg       0.98      0.99      0.98       744\n",
            "weighted avg       0.99      0.99      0.99       744\n",
            "\n"
          ],
          "name": "stdout"
        }
      ]
    },
    {
      "cell_type": "code",
      "metadata": {
        "id": "-mwjnLMiZ1tD"
      },
      "source": [
        ""
      ],
      "execution_count": null,
      "outputs": []
    }
  ]
}