{
  "nbformat": 4,
  "nbformat_minor": 0,
  "metadata": {
    "colab": {
      "name": "Generating Undersampled Data.ipynb",
      "provenance": [],
      "authorship_tag": "ABX9TyNO8G/22arUA8MA044FQMgV",
      "include_colab_link": true
    },
    "kernelspec": {
      "name": "python3",
      "display_name": "Python 3"
    }
  },
  "cells": [
    {
      "cell_type": "markdown",
      "metadata": {
        "id": "view-in-github",
        "colab_type": "text"
      },
      "source": [
        "<a href=\"https://colab.research.google.com/github/vineetjoshi253/Using-Deep-Reinforcement-Learning-For-Imbalanced-Data-Classification/blob/main/Generating_Undersampled_Data.ipynb\" target=\"_parent\"><img src=\"https://colab.research.google.com/assets/colab-badge.svg\" alt=\"Open In Colab\"/></a>"
      ]
    },
    {
      "cell_type": "code",
      "metadata": {
        "id": "Loam2thN551p"
      },
      "source": [
        "import random\r\n",
        "import numpy as np\r\n",
        "from keras.datasets import mnist,fashion_mnist,cifar10\r\n",
        "from sklearn.model_selection import train_test_split"
      ],
      "execution_count": 47,
      "outputs": []
    },
    {
      "cell_type": "markdown",
      "metadata": {
        "id": "9xSa8Las47QQ"
      },
      "source": [
        "### MNIST Undersampling"
      ]
    },
    {
      "cell_type": "code",
      "metadata": {
        "id": "yoc8vMB84tFu"
      },
      "source": [
        "#Load the standard training and MNIST testing data.\r\n",
        "(trainX, trainy), (_, _) = mnist.load_data()"
      ],
      "execution_count": 13,
      "outputs": []
    },
    {
      "cell_type": "code",
      "metadata": {
        "colab": {
          "base_uri": "https://localhost:8080/"
        },
        "id": "7aIiXTtc5geR",
        "outputId": "0e71106f-aa1c-4243-8b1c-0b81473a5ade"
      },
      "source": [
        "#Getting the distribution of classes. \r\n",
        "print(np.unique(trainy,return_counts = True))"
      ],
      "execution_count": 14,
      "outputs": [
        {
          "output_type": "stream",
          "text": [
            "(array([0, 1, 2, 3, 4, 5, 6, 7, 8, 9], dtype=uint8), array([5923, 6742, 5958, 6131, 5842, 5421, 5918, 6265, 5851, 5949]))\n"
          ],
          "name": "stdout"
        }
      ]
    },
    {
      "cell_type": "code",
      "metadata": {
        "id": "MrTfLwcl53qz"
      },
      "source": [
        "#Select class for binary classification.\r\n",
        "class1,class2 = 7,9"
      ],
      "execution_count": 15,
      "outputs": []
    },
    {
      "cell_type": "code",
      "metadata": {
        "colab": {
          "base_uri": "https://localhost:8080/"
        },
        "id": "OmlJGDdx6bW2",
        "outputId": "1dd6a635-faec-4d7a-8f8a-70ed4a442c88"
      },
      "source": [
        "#Sample the indexes of the selected classes\r\n",
        "Index_0 = np.where(trainy == class1)[0]\r\n",
        "Index_2 = np.where(trainy == class2)[0]\r\n",
        "\r\n",
        "Index_to_keep = list(set(Index_0).union(set(Index_2)))\r\n",
        "print(len(Index_to_keep))"
      ],
      "execution_count": 16,
      "outputs": [
        {
          "output_type": "stream",
          "text": [
            "12214\n"
          ],
          "name": "stdout"
        }
      ]
    },
    {
      "cell_type": "code",
      "metadata": {
        "id": "x2GOb-RC6l0e"
      },
      "source": [
        "#Sample the selected classes from the dataest.\r\n",
        "trainX = trainX[Index_to_keep]\r\n",
        "trainy = trainy[Index_to_keep]"
      ],
      "execution_count": 17,
      "outputs": []
    },
    {
      "cell_type": "code",
      "metadata": {
        "id": "ijMB5Fab7Bis"
      },
      "source": [
        "#Renamings the labels by considering class 1 as postive and class 2 as negative. \r\n",
        "Y_train = []\r\n",
        "for label in trainy:\r\n",
        "  if label == class1:\r\n",
        "    Y_train.append(1)\r\n",
        "  else:\r\n",
        "    Y_train.append(0)\r\n",
        "Y_train = np.asarray(Y_train)"
      ],
      "execution_count": 18,
      "outputs": []
    },
    {
      "cell_type": "code",
      "metadata": {
        "colab": {
          "base_uri": "https://localhost:8080/"
        },
        "id": "ntuYvcO_7mIY",
        "outputId": "b53a5c63-e00d-41a5-bf06-872a09c27b9f"
      },
      "source": [
        "#Getting the distribution of classes. \r\n",
        "print('Training Data: ',np.unique(Y_train,return_counts = True))\r\n",
        "_,Count = np.unique(Y_train,return_counts = True)\r\n",
        "Negative_Count = Count[0]\r\n",
        "Positive_Count = Count[1]"
      ],
      "execution_count": 20,
      "outputs": [
        {
          "output_type": "stream",
          "text": [
            "Training Data:  (array([0, 1]), array([5949, 6265]))\n"
          ],
          "name": "stdout"
        }
      ]
    },
    {
      "cell_type": "code",
      "metadata": {
        "colab": {
          "base_uri": "https://localhost:8080/"
        },
        "id": "hMMBPp4H7w1F",
        "outputId": "16274fa1-4d33-4adb-ed67-29a75543069a"
      },
      "source": [
        "#Number of instances of class 1 to remove \r\n",
        "imbalance_ratio = 0.4\r\n",
        "undersample = int(Positive_Count - imbalance_ratio * Negative_Count)\r\n",
        "print(undersample)"
      ],
      "execution_count": 24,
      "outputs": [
        {
          "output_type": "stream",
          "text": [
            "3885\n"
          ],
          "name": "stdout"
        }
      ]
    },
    {
      "cell_type": "code",
      "metadata": {
        "id": "1JQhCSWf8Ae6"
      },
      "source": [
        "#Undersampling positive class.\r\n",
        "\r\n",
        "#Get index of positive class\r\n",
        "Pos_ind = list(np.where(Y_train==1)[0])\r\n",
        "\r\n",
        "#Get random indices to remove.\r\n",
        "rem_ind = random.sample(Pos_ind,undersample)\r\n",
        "\r\n",
        "#Get indices to keep\r\n",
        "keep_ind = []\r\n",
        "for i in range(len(Y_train)):\r\n",
        "  if i not in rem_ind:\r\n",
        "    keep_ind.append(i)"
      ],
      "execution_count": 27,
      "outputs": []
    },
    {
      "cell_type": "code",
      "metadata": {
        "id": "guXV6vHe8jcT"
      },
      "source": [
        "#Create final data\r\n",
        "X_train = trainX[keep_ind]/255.0\r\n",
        "Y_train = Y_train[keep_ind]"
      ],
      "execution_count": 28,
      "outputs": []
    },
    {
      "cell_type": "code",
      "metadata": {
        "colab": {
          "base_uri": "https://localhost:8080/"
        },
        "id": "z_zo_V5a8r7-",
        "outputId": "43eff9fc-cf1c-47c9-b651-c9e34ffcc996"
      },
      "source": [
        "#Getting the distribution of classes. \r\n",
        "print('Training Data: ',np.unique(Y_train,return_counts = True))"
      ],
      "execution_count": 29,
      "outputs": [
        {
          "output_type": "stream",
          "text": [
            "Training Data:  (array([0, 1]), array([5949, 2380]))\n"
          ],
          "name": "stdout"
        }
      ]
    },
    {
      "cell_type": "code",
      "metadata": {
        "id": "YhGymXN-8upV"
      },
      "source": [
        "#Getting the training and validation data. \r\n",
        "X_train,X_val,Y_train,Y_val = train_test_split(X_train,Y_train,test_size=0.20,stratify = Y_train,random_state=42)"
      ],
      "execution_count": 32,
      "outputs": []
    },
    {
      "cell_type": "markdown",
      "metadata": {
        "id": "G4ZYH9m89F46"
      },
      "source": [
        "### FMNIST Undersampling"
      ]
    },
    {
      "cell_type": "code",
      "metadata": {
        "colab": {
          "base_uri": "https://localhost:8080/"
        },
        "id": "I9v55rry9F5Z",
        "outputId": "dcedc2f4-2e1f-4c48-9c2d-2dd7d9d8199d"
      },
      "source": [
        "#Load the standard training and MNIST testing data.\r\n",
        "(trainX, trainy), (_, _) = fashion_mnist.load_data()"
      ],
      "execution_count": 34,
      "outputs": [
        {
          "output_type": "stream",
          "text": [
            "Downloading data from https://storage.googleapis.com/tensorflow/tf-keras-datasets/train-labels-idx1-ubyte.gz\n",
            "32768/29515 [=================================] - 0s 0us/step\n",
            "Downloading data from https://storage.googleapis.com/tensorflow/tf-keras-datasets/train-images-idx3-ubyte.gz\n",
            "26427392/26421880 [==============================] - 0s 0us/step\n",
            "Downloading data from https://storage.googleapis.com/tensorflow/tf-keras-datasets/t10k-labels-idx1-ubyte.gz\n",
            "8192/5148 [===============================================] - 0s 0us/step\n",
            "Downloading data from https://storage.googleapis.com/tensorflow/tf-keras-datasets/t10k-images-idx3-ubyte.gz\n",
            "4423680/4422102 [==============================] - 0s 0us/step\n"
          ],
          "name": "stdout"
        }
      ]
    },
    {
      "cell_type": "code",
      "metadata": {
        "colab": {
          "base_uri": "https://localhost:8080/"
        },
        "id": "UxHsIU279F5c",
        "outputId": "123f73d7-aa85-4aa6-a2ed-158cc13240c0"
      },
      "source": [
        "#Getting the distribution of classes. \r\n",
        "print(np.unique(trainy,return_counts = True))"
      ],
      "execution_count": 35,
      "outputs": [
        {
          "output_type": "stream",
          "text": [
            "(array([0, 1, 2, 3, 4, 5, 6, 7, 8, 9], dtype=uint8), array([6000, 6000, 6000, 6000, 6000, 6000, 6000, 6000, 6000, 6000]))\n"
          ],
          "name": "stdout"
        }
      ]
    },
    {
      "cell_type": "code",
      "metadata": {
        "id": "7H-Tod-t9F5e"
      },
      "source": [
        "#Select class for binary classification.\r\n",
        "class1,class2 = 1,6"
      ],
      "execution_count": 36,
      "outputs": []
    },
    {
      "cell_type": "code",
      "metadata": {
        "colab": {
          "base_uri": "https://localhost:8080/"
        },
        "id": "jBfSQ2dH9F5f",
        "outputId": "a3f3f3bb-4a8b-4959-da20-f012114f6712"
      },
      "source": [
        "#Sample the indexes of the selected classes\r\n",
        "Index_0 = np.where(trainy == class1)[0]\r\n",
        "Index_2 = np.where(trainy == class2)[0]\r\n",
        "\r\n",
        "Index_to_keep = list(set(Index_0).union(set(Index_2)))\r\n",
        "print(len(Index_to_keep))"
      ],
      "execution_count": 37,
      "outputs": [
        {
          "output_type": "stream",
          "text": [
            "12000\n"
          ],
          "name": "stdout"
        }
      ]
    },
    {
      "cell_type": "code",
      "metadata": {
        "id": "FI9h_-AY9F5h"
      },
      "source": [
        "#Sample the selected classes from the dataest.\r\n",
        "trainX = trainX[Index_to_keep]\r\n",
        "trainy = trainy[Index_to_keep]"
      ],
      "execution_count": 38,
      "outputs": []
    },
    {
      "cell_type": "code",
      "metadata": {
        "id": "v-g5D9Wd9F5h"
      },
      "source": [
        "#Renamings the labels by considering class 1 as postive and class 2 as negative. \r\n",
        "Y_train = []\r\n",
        "for label in trainy:\r\n",
        "  if label == class1:\r\n",
        "    Y_train.append(1)\r\n",
        "  else:\r\n",
        "    Y_train.append(0)\r\n",
        "Y_train = np.asarray(Y_train)"
      ],
      "execution_count": 39,
      "outputs": []
    },
    {
      "cell_type": "code",
      "metadata": {
        "colab": {
          "base_uri": "https://localhost:8080/"
        },
        "id": "c-d39M8H9F5i",
        "outputId": "b9d2541e-7efe-4b03-caed-33dd85c6a18b"
      },
      "source": [
        "#Getting the distribution of classes. \r\n",
        "print('Training Data: ',np.unique(Y_train,return_counts = True))\r\n",
        "_,Count = np.unique(Y_train,return_counts = True)\r\n",
        "Negative_Count = Count[0]\r\n",
        "Positive_Count = Count[1]"
      ],
      "execution_count": 40,
      "outputs": [
        {
          "output_type": "stream",
          "text": [
            "Training Data:  (array([0, 1]), array([6000, 6000]))\n"
          ],
          "name": "stdout"
        }
      ]
    },
    {
      "cell_type": "code",
      "metadata": {
        "colab": {
          "base_uri": "https://localhost:8080/"
        },
        "id": "tLuw-dpn9F5j",
        "outputId": "241b52d4-4b63-4268-cca5-6bd1e5841e8a"
      },
      "source": [
        "#Number of instances of class 1 to remove \r\n",
        "imbalance_ratio = 0.4\r\n",
        "undersample = int(Positive_Count - imbalance_ratio * Negative_Count)\r\n",
        "print(undersample)"
      ],
      "execution_count": 41,
      "outputs": [
        {
          "output_type": "stream",
          "text": [
            "3600\n"
          ],
          "name": "stdout"
        }
      ]
    },
    {
      "cell_type": "code",
      "metadata": {
        "id": "zS41dHgd9F5k"
      },
      "source": [
        "#Undersampling positive class.\r\n",
        "\r\n",
        "#Get index of positive class\r\n",
        "Pos_ind = list(np.where(Y_train==1)[0])\r\n",
        "\r\n",
        "#Get random indices to remove.\r\n",
        "rem_ind = random.sample(Pos_ind,undersample)\r\n",
        "\r\n",
        "#Get indices to keep\r\n",
        "keep_ind = []\r\n",
        "for i in range(len(Y_train)):\r\n",
        "  if i not in rem_ind:\r\n",
        "    keep_ind.append(i)"
      ],
      "execution_count": 42,
      "outputs": []
    },
    {
      "cell_type": "code",
      "metadata": {
        "id": "Z7Tm5nsj9F5l"
      },
      "source": [
        "#Create final data\r\n",
        "X_train = trainX[keep_ind]/255.0\r\n",
        "Y_train = Y_train[keep_ind]"
      ],
      "execution_count": 43,
      "outputs": []
    },
    {
      "cell_type": "code",
      "metadata": {
        "colab": {
          "base_uri": "https://localhost:8080/"
        },
        "id": "8Q3ngr3X9F5m",
        "outputId": "faf25c68-38a8-47a6-89a2-4bd5a09d9837"
      },
      "source": [
        "#Getting the distribution of classes. \r\n",
        "print('Training Data: ',np.unique(Y_train,return_counts = True))"
      ],
      "execution_count": 44,
      "outputs": [
        {
          "output_type": "stream",
          "text": [
            "Training Data:  (array([0, 1]), array([6000, 2400]))\n"
          ],
          "name": "stdout"
        }
      ]
    },
    {
      "cell_type": "code",
      "metadata": {
        "id": "cesuACvA9F5n"
      },
      "source": [
        "#Getting the training and validation data. \r\n",
        "X_train,X_val,Y_train,Y_val = train_test_split(X_train,Y_train,test_size=0.20,stratify = Y_train,random_state=42)"
      ],
      "execution_count": 45,
      "outputs": []
    },
    {
      "cell_type": "markdown",
      "metadata": {
        "id": "zByWIlsB9YYd"
      },
      "source": [
        "### CIFAR Undersampling"
      ]
    },
    {
      "cell_type": "code",
      "metadata": {
        "colab": {
          "base_uri": "https://localhost:8080/"
        },
        "id": "6vMtKqqs9YY0",
        "outputId": "12dc74a3-acd3-408b-fbd6-ce8fef0c973b"
      },
      "source": [
        "#Load the standard training and MNIST testing data.\r\n",
        "(trainX, trainy), (_, _) = cifar10.load_data()"
      ],
      "execution_count": 48,
      "outputs": [
        {
          "output_type": "stream",
          "text": [
            "Downloading data from https://www.cs.toronto.edu/~kriz/cifar-10-python.tar.gz\n",
            "170500096/170498071 [==============================] - 13s 0us/step\n"
          ],
          "name": "stdout"
        }
      ]
    },
    {
      "cell_type": "code",
      "metadata": {
        "colab": {
          "base_uri": "https://localhost:8080/"
        },
        "id": "FA2VH0Fr9YY1",
        "outputId": "a135a7bb-8d85-4e66-b5ab-d1e1a5b48ebe"
      },
      "source": [
        "#Getting the distribution of classes. \r\n",
        "print(np.unique(trainy,return_counts = True))"
      ],
      "execution_count": 49,
      "outputs": [
        {
          "output_type": "stream",
          "text": [
            "(array([0, 1, 2, 3, 4, 5, 6, 7, 8, 9], dtype=uint8), array([5000, 5000, 5000, 5000, 5000, 5000, 5000, 5000, 5000, 5000]))\n"
          ],
          "name": "stdout"
        }
      ]
    },
    {
      "cell_type": "code",
      "metadata": {
        "id": "1T7JVig-9YY2"
      },
      "source": [
        "#Select class for binary classification.\r\n",
        "class1,class2 = 1,6"
      ],
      "execution_count": 50,
      "outputs": []
    },
    {
      "cell_type": "code",
      "metadata": {
        "colab": {
          "base_uri": "https://localhost:8080/"
        },
        "id": "CyCuZbpO9YY3",
        "outputId": "9ffe28fe-9f2c-4d5a-fa2f-b2ac7a265981"
      },
      "source": [
        "#Sample the indexes of the selected classes\r\n",
        "Index_0 = np.where(trainy == class1)[0]\r\n",
        "Index_2 = np.where(trainy == class2)[0]\r\n",
        "\r\n",
        "Index_to_keep = list(set(Index_0).union(set(Index_2)))\r\n",
        "print(len(Index_to_keep))"
      ],
      "execution_count": 51,
      "outputs": [
        {
          "output_type": "stream",
          "text": [
            "10000\n"
          ],
          "name": "stdout"
        }
      ]
    },
    {
      "cell_type": "code",
      "metadata": {
        "id": "AdmyeK0K9YY4"
      },
      "source": [
        "#Sample the selected classes from the dataest.\r\n",
        "trainX = trainX[Index_to_keep]\r\n",
        "trainy = trainy[Index_to_keep]"
      ],
      "execution_count": 52,
      "outputs": []
    },
    {
      "cell_type": "code",
      "metadata": {
        "id": "XXjvFU0V9YY4"
      },
      "source": [
        "#Renamings the labels by considering class 1 as postive and class 2 as negative. \r\n",
        "Y_train = []\r\n",
        "for label in trainy:\r\n",
        "  if label == class1:\r\n",
        "    Y_train.append(1)\r\n",
        "  else:\r\n",
        "    Y_train.append(0)\r\n",
        "Y_train = np.asarray(Y_train)"
      ],
      "execution_count": 53,
      "outputs": []
    },
    {
      "cell_type": "code",
      "metadata": {
        "colab": {
          "base_uri": "https://localhost:8080/"
        },
        "id": "_QsZNvEo9YY5",
        "outputId": "ff758306-27f0-43ed-a309-b07ce4b8bd57"
      },
      "source": [
        "#Getting the distribution of classes. \r\n",
        "print('Training Data: ',np.unique(Y_train,return_counts = True))\r\n",
        "_,Count = np.unique(Y_train,return_counts = True)\r\n",
        "Negative_Count = Count[0]\r\n",
        "Positive_Count = Count[1]"
      ],
      "execution_count": 54,
      "outputs": [
        {
          "output_type": "stream",
          "text": [
            "Training Data:  (array([0, 1]), array([5000, 5000]))\n"
          ],
          "name": "stdout"
        }
      ]
    },
    {
      "cell_type": "code",
      "metadata": {
        "colab": {
          "base_uri": "https://localhost:8080/"
        },
        "id": "yOH0nU9n9YY6",
        "outputId": "b497a3c5-2422-4402-f96c-c96728b03232"
      },
      "source": [
        "#Number of instances of class 1 to remove \r\n",
        "imbalance_ratio = 0.4\r\n",
        "undersample = int(Positive_Count - imbalance_ratio * Negative_Count)\r\n",
        "print(undersample)"
      ],
      "execution_count": 55,
      "outputs": [
        {
          "output_type": "stream",
          "text": [
            "3000\n"
          ],
          "name": "stdout"
        }
      ]
    },
    {
      "cell_type": "code",
      "metadata": {
        "id": "e7DNlkIz9YY7"
      },
      "source": [
        "#Undersampling positive class.\r\n",
        "\r\n",
        "#Get index of positive class\r\n",
        "Pos_ind = list(np.where(Y_train==1)[0])\r\n",
        "\r\n",
        "#Get random indices to remove.\r\n",
        "rem_ind = random.sample(Pos_ind,undersample)\r\n",
        "\r\n",
        "#Get indices to keep\r\n",
        "keep_ind = []\r\n",
        "for i in range(len(Y_train)):\r\n",
        "  if i not in rem_ind:\r\n",
        "    keep_ind.append(i)"
      ],
      "execution_count": 56,
      "outputs": []
    },
    {
      "cell_type": "code",
      "metadata": {
        "id": "0DZWdQe_9YY7"
      },
      "source": [
        "#Create final data\r\n",
        "X_train = trainX[keep_ind]/255.0\r\n",
        "Y_train = Y_train[keep_ind]"
      ],
      "execution_count": 57,
      "outputs": []
    },
    {
      "cell_type": "code",
      "metadata": {
        "colab": {
          "base_uri": "https://localhost:8080/"
        },
        "id": "3wUiYSjK9YY8",
        "outputId": "8e16ad02-f526-4af4-8370-d2085d15f07b"
      },
      "source": [
        "#Getting the distribution of classes. \r\n",
        "print('Training Data: ',np.unique(Y_train,return_counts = True))"
      ],
      "execution_count": 58,
      "outputs": [
        {
          "output_type": "stream",
          "text": [
            "Training Data:  (array([0, 1]), array([5000, 2000]))\n"
          ],
          "name": "stdout"
        }
      ]
    },
    {
      "cell_type": "code",
      "metadata": {
        "id": "5lMl1Agd9YY9"
      },
      "source": [
        "#Getting the training and validation data. \r\n",
        "X_train,X_val,Y_train,Y_val = train_test_split(X_train,Y_train,test_size=0.20,stratify = Y_train,random_state=42)"
      ],
      "execution_count": 59,
      "outputs": []
    },
    {
      "cell_type": "code",
      "metadata": {
        "id": "e5FEVllv9v9R"
      },
      "source": [
        ""
      ],
      "execution_count": null,
      "outputs": []
    }
  ]
}